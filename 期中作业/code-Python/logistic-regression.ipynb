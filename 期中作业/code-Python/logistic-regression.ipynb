{
 "cells": [
  {
   "cell_type": "code",
   "execution_count": 1,
   "metadata": {},
   "outputs": [],
   "source": [
    "import pandas as pd\n",
    "import numpy as np\n",
    "import corr\n",
    "import pretreat as pt\n",
    "from sklearn.model_selection import train_test_split, KFold\n",
    "from sklearn.utils import shuffle\n",
    "from sklearn.linear_model import LinearRegression,LogisticRegression\n",
    "import seaborn as sns\n",
    "import matplotlib.pyplot as plt\n",
    "from scipy import stats\n",
    "from collections import Counter"
   ]
  },
  {
   "cell_type": "code",
   "execution_count": 2,
   "metadata": {},
   "outputs": [
    {
     "name": "stderr",
     "output_type": "stream",
     "text": [
      "D:\\anaconda3_latest\\lib\\site-packages\\scipy\\stats\\stats.py:2500: RuntimeWarning: invalid value encountered in true_divide\n",
      "  return (a - mns) / sstd\n"
     ]
    },
    {
     "name": "stdout",
     "output_type": "stream",
     "text": [
      "C1SP2               -0.511839\n",
      "hmin                -0.428580\n",
      "ETA_Epsilon_4       -0.401014\n",
      "ATSc3               -0.388795\n",
      "HOB                 -0.385199\n",
      "                       ...   \n",
      "maxsOH               0.495676\n",
      "LipoaffinityIndex    0.530547\n",
      "MLogP                0.548946\n",
      "MDEC-23              0.552716\n",
      "pIC50                1.000000\n",
      "Name: pIC50, Length: 506, dtype: float64\n",
      "ATSp3                0.443449\n",
      "C2SP2                0.443637\n",
      "VP-3                 0.444182\n",
      "SwHBa                0.445961\n",
      "ATSp1                0.447772\n",
      "ATSp2                0.449943\n",
      "VP-4                 0.450466\n",
      "BCUTp-1h             0.452396\n",
      "AMR                  0.453209\n",
      "ATSp5                0.456117\n",
      "minsOH               0.458949\n",
      "ATSp4                0.461388\n",
      "VP-5                 0.466664\n",
      "CrippenLogP          0.475894\n",
      "nC                   0.485972\n",
      "maxsOH               0.495676\n",
      "C1SP2                0.511839\n",
      "LipoaffinityIndex    0.530547\n",
      "MLogP                0.548946\n",
      "MDEC-23              0.552716\n",
      "Name: pIC50, dtype: float64\n"
     ]
    }
   ],
   "source": [
    "f1 = pt.get_data()\n",
    "attributes = corr.get_attributes(f1)\n",
    "f1_attr20 = f1[attributes]\n",
    "# print(f1_attr20)\n",
    "f1_attr20 = shuffle(f1_attr20)"
   ]
  },
  {
   "cell_type": "code",
   "execution_count": 3,
   "metadata": {},
   "outputs": [
    {
     "name": "stdout",
     "output_type": "stream",
     "text": [
      "(20,)\n",
      "['ATSp3' 'C2SP2' 'VP-3' 'SwHBa' 'ATSp1' 'ATSp2' 'VP-4' 'BCUTp-1h' 'AMR'\n",
      " 'ATSp5' 'minsOH' 'ATSp4' 'VP-5' 'CrippenLogP' 'nC' 'maxsOH' 'C1SP2'\n",
      " 'LipoaffinityIndex' 'MLogP' 'MDEC-23' 'CYP3A4']\n"
     ]
    }
   ],
   "source": [
    "attributes=np.delete(attributes,20)\n",
    "print(attributes.shape)\n",
    "new_attributes=['Caco-2','CYP3A4','hERG','HOB','MN']\n",
    "attributes = np.append(attributes, np.array(new_attributes[1]))\n",
    "print(attributes)"
   ]
  },
  {
   "cell_type": "code",
   "execution_count": 4,
   "metadata": {},
   "outputs": [
    {
     "name": "stdout",
     "output_type": "stream",
     "text": [
      "            ATSp3  C2SP2      VP-3      SwHBa        ATSp1        ATSp2  \\\n",
      "0     4109.492845     11  8.417904  19.410374  2469.977567  2930.668527   \n",
      "1     4379.505354     11  8.917904  19.530549  2679.488262  3157.289284   \n",
      "2     4285.592752     16  7.611580  27.146320  2576.569862  3054.050592   \n",
      "3     4193.549346     11  8.736554  19.452294  2596.316352  3045.933534   \n",
      "4     4144.672227     16  7.700096  30.949906  2561.845107  3007.231045   \n",
      "...           ...    ...       ...        ...          ...          ...   \n",
      "1969  6170.550312     22  8.032227  36.466250  3435.707126  4159.009056   \n",
      "1970  5960.180855     22  7.583319  32.410085  3297.276571  4002.868699   \n",
      "1971  5911.985670     22  7.605326  32.695525  3275.017812  3971.981132   \n",
      "1972  4757.182371     16  6.075333  26.034284  2554.725206  3132.708913   \n",
      "1973  6121.229879     22  8.054234  36.725453  3412.964914  4127.457293   \n",
      "\n",
      "          VP-4   BCUTp-1h       AMR        ATSp5  ...        ATSp4      VP-5  \\\n",
      "0     6.730082  13.254859  126.1188  3792.779760  ...  4128.339568  4.883285   \n",
      "1     7.083636  13.617609  131.9420  4154.384741  ...  4811.560374  5.620657   \n",
      "2     5.786565  13.393453  139.9304  3993.734054  ...  4479.177597  4.424384   \n",
      "3     7.010825  13.079547  133.4822  3850.190106  ...  4311.294610  5.497714   \n",
      "4     5.990239  13.043454  143.1903  3806.120673  ...  4265.064807  4.538549   \n",
      "...        ...        ...       ...          ...  ...          ...       ...   \n",
      "1969  5.969329  12.775315  177.6817  6237.629855  ...  6121.378119  4.395955   \n",
      "1970  5.757921  12.774086  167.6057  5948.533703  ...  5840.130133  4.153962   \n",
      "1971  5.724216  12.729192  167.6057  5804.010590  ...  5772.028702  4.156763   \n",
      "1972  4.659061  12.684299  125.5605  4727.556804  ...  4603.096973  3.464317   \n",
      "1973  5.935624  12.729807  177.6817  6089.765337  ...  6051.414451  4.398756   \n",
      "\n",
      "      CrippenLogP  nC     maxsOH  C1SP2  LipoaffinityIndex  MLogP    MDEC-23  \\\n",
      "0         5.50408  26   9.968948      0          11.830949   3.77  28.277932   \n",
      "1         6.28428  28  10.058948      0          13.149974   3.99  31.076748   \n",
      "2         6.11878  27   9.977508      0          10.577177   3.77  30.901064   \n",
      "3         6.28428  28  10.025028      0          13.212767   3.99  30.570001   \n",
      "4         5.55658  28   9.993342      0          12.489691   3.99  30.570001   \n",
      "...           ...  ..        ...    ...                ...    ...        ...   \n",
      "1969      6.07537  34   9.862971      0          10.292932   4.21  45.421854   \n",
      "1970      5.46937  32   9.829120      0           7.884092   3.99  45.421854   \n",
      "1971      5.46937  32   9.815320      0           7.965074   3.99  44.466435   \n",
      "1972      4.17938  24   9.706524      0           6.236558   3.33  32.179316   \n",
      "1973      6.07537  34   9.845961      0          10.371184   4.21  44.466435   \n",
      "\n",
      "      CYP3A4  \n",
      "0          1  \n",
      "1          1  \n",
      "2          1  \n",
      "3          1  \n",
      "4          1  \n",
      "...      ...  \n",
      "1969       1  \n",
      "1970       1  \n",
      "1971       1  \n",
      "1972       1  \n",
      "1973       1  \n",
      "\n",
      "[1922 rows x 21 columns]\n",
      "CYP3A4\n"
     ]
    }
   ],
   "source": [
    "f1_attr20=f1[attributes]\n",
    "print(f1_attr20)\n",
    "print(attributes[20])"
   ]
  },
  {
   "cell_type": "code",
   "execution_count": 5,
   "metadata": {},
   "outputs": [
    {
     "name": "stdout",
     "output_type": "stream",
     "text": [
      "(1537, 20) (385, 20) (1537,) (385,)\n"
     ]
    }
   ],
   "source": [
    "X_train,X_test,Y_train,Y_test = train_test_split(f1_attr20[attributes[:20]],f1_attr20[attributes[20]],train_size=0.80)\n",
    "print(X_train.shape,X_test.shape,Y_train.shape,Y_test.shape)"
   ]
  },
  {
   "cell_type": "code",
   "execution_count": 6,
   "metadata": {
    "scrolled": true
   },
   "outputs": [
    {
     "data": {
      "text/plain": [
       "LogisticRegression(max_iter=10000)"
      ]
     },
     "execution_count": 6,
     "metadata": {},
     "output_type": "execute_result"
    }
   ],
   "source": [
    "model = LogisticRegression(max_iter=10000)\n",
    "model.fit(X_train,Y_train)"
   ]
  },
  {
   "cell_type": "code",
   "execution_count": 8,
   "metadata": {
    "scrolled": false
   },
   "outputs": [
    {
     "data": {
      "text/plain": [
       "0.9116883116883117"
      ]
     },
     "execution_count": 8,
     "metadata": {},
     "output_type": "execute_result"
    }
   ],
   "source": [
    "model.score(X_test,Y_test)"
   ]
  },
  {
   "cell_type": "code",
   "execution_count": 9,
   "metadata": {},
   "outputs": [],
   "source": [
    "lr_pres_proba = model.predict_proba(X_test) [::, 1]"
   ]
  },
  {
   "cell_type": "code",
   "execution_count": 10,
   "metadata": {},
   "outputs": [],
   "source": [
    "from sklearn.metrics import roc_curve\n",
    "fpr, tpr, thresholds = roc_curve(Y_test, lr_pres_proba)"
   ]
  },
  {
   "cell_type": "code",
   "execution_count": 11,
   "metadata": {},
   "outputs": [],
   "source": [
    "from sklearn.metrics import roc_auc_score\n",
    "auc = roc_auc_score(Y_test, lr_pres_proba)"
   ]
  },
  {
   "cell_type": "code",
   "execution_count": 12,
   "metadata": {
    "scrolled": true
   },
   "outputs": [
    {
     "name": "stdout",
     "output_type": "stream",
     "text": [
      "[0.   0.   0.   0.   0.   0.   0.   0.01 0.01 0.01 0.01 0.01 0.01 0.02\n",
      " 0.02 0.03 0.03 0.04 0.04 0.05 0.05 0.06 0.06 0.09 0.09 0.1  0.1  0.11\n",
      " 0.11 0.12 0.12 0.16 0.16 0.2  0.2  0.21 0.21 0.22 0.22 0.24 0.24 0.25\n",
      " 0.25 0.28 0.28 0.3  0.3  0.35 0.35 0.36 0.36 0.4  0.4  0.44 0.44 0.48\n",
      " 0.48 0.52 0.52 0.55 0.55 0.6  0.6  0.63 0.63 0.69 0.69 1.  ] [0.         0.00350877 0.27368421 0.28070175 0.49824561 0.50526316\n",
      " 0.51578947 0.51578947 0.51929825 0.52631579 0.5754386  0.58245614\n",
      " 0.70175439 0.70175439 0.76140351 0.76140351 0.78596491 0.78596491\n",
      " 0.82105263 0.82105263 0.87017544 0.87017544 0.90175439 0.90175439\n",
      " 0.90526316 0.90526316 0.90877193 0.90877193 0.91578947 0.91578947\n",
      " 0.92631579 0.92631579 0.92982456 0.92982456 0.93333333 0.93333333\n",
      " 0.93684211 0.93684211 0.94385965 0.94385965 0.94736842 0.94736842\n",
      " 0.95087719 0.95087719 0.96140351 0.96140351 0.96491228 0.96491228\n",
      " 0.96842105 0.96842105 0.97192982 0.97192982 0.9754386  0.9754386\n",
      " 0.97894737 0.97894737 0.98245614 0.98245614 0.98596491 0.98596491\n",
      " 0.98947368 0.98947368 0.99298246 0.99298246 0.99649123 0.99649123\n",
      " 1.         1.        ]\n"
     ]
    },
    {
     "data": {
      "image/png": "[encoded data removed]",
      "text/plain": [
       "<Figure size 500x300 with 1 Axes>"
      ]
     },
     "metadata": {
      "needs_background": "light"
     },
     "output_type": "display_data"
    }
   ],
   "source": [
    "plt.figure(figsize=(5, 3), dpi=100)\n",
    "plt.style.use('seaborn')\n",
    "plt.plot(fpr, tpr, label=\"AUC={:.4f}\" .format(auc))\n",
    "print(fpr,tpr)\n",
    "plt.legend(loc=4, fontsize=7)\n",
    "plt.title('ROC curve',fontsize=10)\n",
    "plt.xlabel('Fauls Positive Rate',fontsize=10)\n",
    "plt.ylabel('True Positive Rate',fontsize=10)\n",
    "plt.show()"
   ]
  },
  {
   "cell_type": "code",
   "execution_count": 14,
   "metadata": {},
   "outputs": [
    {
     "name": "stdout",
     "output_type": "stream",
     "text": [
      "              precision    recall  f1-score   support\n",
      "\n",
      "           0       0.80      0.88      0.84       100\n",
      "           1       0.96      0.92      0.94       285\n",
      "\n",
      "    accuracy                           0.91       385\n",
      "   macro avg       0.88      0.90      0.89       385\n",
      "weighted avg       0.92      0.91      0.91       385\n",
      "\n"
     ]
    }
   ],
   "source": [
    "from sklearn.metrics import classification_report\n",
    "prediction = model.predict(X_test)#\n",
    "print(classification_report(Y_test,prediction))"
   ]
  },
  {
   "cell_type": "code",
   "execution_count": 15,
   "metadata": {},
   "outputs": [
    {
     "data": {
      "image/png": "[encoded data removed]",
      "text/plain": [
       "<Figure size 500x300 with 1 Axes>"
      ]
     },
     "metadata": {},
     "output_type": "display_data"
    }
   ],
   "source": [
    "plt.figure(figsize=(5, 3), dpi=100)\n",
    "plt.scatter(range(0,50),model.predict(X_test)[:50],label=\"prediction\")\n",
    "plt.legend(loc=4, fontsize=7)\n",
    "plt.scatter(range(0,50), Y_test[:50],label=\"Y_test\")\n",
    "plt.legend(loc=4, fontsize=7)\n",
    "plt.title('overview of the model',fontsize=10)\n",
    "plt.xlabel('index of data',fontsize=10)\n",
    "plt.ylabel('CYP3A4',fontsize=10)\n",
    "plt.show()"
   ]
  },
  {
   "cell_type": "code",
   "execution_count": 16,
   "metadata": {
    "scrolled": true
   },
   "outputs": [],
   "source": [
    "import sklearn.metrics as sm\n",
    "import statsmodels.api as sa"
   ]
  },
  {
   "cell_type": "code",
   "execution_count": 17,
   "metadata": {},
   "outputs": [
    {
     "name": "stdout",
     "output_type": "stream",
     "text": [
      "Optimization terminated successfully.\n",
      "         Current function value: 0.216994\n",
      "         Iterations 9\n",
      "                           Logit Regression Results                           \n",
      "==============================================================================\n",
      "Dep. Variable:                 CYP3A4   No. Observations:                 1537\n",
      "Model:                          Logit   Df Residuals:                     1517\n",
      "Method:                           MLE   Df Model:                           19\n",
      "Date:                Tue, 28 Dec 2021   Pseudo R-squ.:                  0.6259\n",
      "Time:                        17:54:47   Log-Likelihood:                -333.52\n",
      "converged:                       True   LL-Null:                       -891.46\n",
      "Covariance Type:            nonrobust   LLR p-value:                9.199e-225\n",
      "=====================================================================================\n",
      "                        coef    std err          z      P>|z|      [0.025      0.975]\n",
      "-------------------------------------------------------------------------------------\n",
      "ATSp3                 0.0221      0.004      5.770      0.000       0.015       0.030\n",
      "C2SP2                -0.3561      0.088     -4.053      0.000      -0.528      -0.184\n",
      "VP-3                 -0.0645      0.826     -0.078      0.938      -1.684       1.555\n",
      "SwHBa                 0.2244      0.041      5.502      0.000       0.144       0.304\n",
      "ATSp1                 0.0280      0.011      2.627      0.009       0.007       0.049\n",
      "ATSp2                -0.0594      0.015     -4.093      0.000      -0.088      -0.031\n",
      "VP-4                  0.1741      0.973      0.179      0.858      -1.733       2.082\n",
      "BCUTp-1h              0.4016      0.192      2.090      0.037       0.025       0.778\n",
      "AMR                   0.0759      0.047      1.599      0.110      -0.017       0.169\n",
      "ATSp5                -0.0013      0.001     -1.262      0.207      -0.003       0.001\n",
      "minsOH                0.4853      0.430      1.127      0.260      -0.358       1.329\n",
      "ATSp4                -0.0013      0.001     -0.974      0.330      -0.004       0.001\n",
      "VP-5                  2.3474      0.855      2.746      0.006       0.672       4.023\n",
      "CrippenLogP          -0.3627      0.165     -2.193      0.028      -0.687      -0.039\n",
      "nC                    2.2062      0.374      5.894      0.000       1.473       2.940\n",
      "maxsOH               -0.4452      0.422     -1.054      0.292      -1.273       0.382\n",
      "C1SP2                -0.2999      0.146     -2.056      0.040      -0.586      -0.014\n",
      "LipoaffinityIndex    -0.2371      0.113     -2.101      0.036      -0.458      -0.016\n",
      "MLogP               -13.3781      1.737     -7.701      0.000     -16.783      -9.973\n",
      "MDEC-23               0.0291      0.048      0.602      0.547      -0.066       0.124\n",
      "=====================================================================================\n",
      "\n",
      "Possibly complete quasi-separation: A fraction 0.10 of observations can be\n",
      "perfectly predicted. This might indicate that there is complete\n",
      "quasi-separation. In this case some parameters will not be identified.\n"
     ]
    }
   ],
   "source": [
    "model2=sa.Logit(Y_train,X_train)\n",
    "result=model2.fit()\n",
    "print(result.summary())"
   ]
  },
  {
   "cell_type": "code",
   "execution_count": 18,
   "metadata": {
    "scrolled": true
   },
   "outputs": [
    {
     "name": "stdout",
     "output_type": "stream",
     "text": [
      "Optimization terminated successfully.\n",
      "         Current function value: 0.216994\n",
      "         Iterations 9\n",
      "              precision    recall  f1-score   support\n",
      "\n",
      "           0       0.83      0.87      0.85       100\n",
      "           1       0.95      0.94      0.95       285\n",
      "\n",
      "    accuracy                           0.92       385\n",
      "   macro avg       0.89      0.90      0.90       385\n",
      "weighted avg       0.92      0.92      0.92       385\n",
      "\n"
     ]
    }
   ],
   "source": [
    "predictedValue=model2.fit().predict(X_test)\n",
    "p2=predictedValue.copy(deep=True)\n",
    "#print(classification_report(Y_test,predictedValue))\n",
    "p2.loc[predictedValue>=0.5]=1\n",
    "p2.loc[predictedValue<0.5]=0\n",
    "print(classification_report(Y_test,p2))\n",
    "#print(predictedValue)"
   ]
  },
  {
   "cell_type": "code",
   "execution_count": 19,
   "metadata": {},
   "outputs": [
    {
     "name": "stdout",
     "output_type": "stream",
     "text": [
      "[[ 87  13]\n",
      " [ 18 267]]\n"
     ]
    }
   ],
   "source": [
    "from sklearn.metrics import confusion_matrix\n",
    "confusion_matrix = confusion_matrix(Y_test,p2)\n",
    "print(confusion_matrix)"
   ]
  },
  {
   "cell_type": "code",
   "execution_count": 20,
   "metadata": {},
   "outputs": [
    {
     "name": "stdout",
     "output_type": "stream",
     "text": [
      "Accuracy: 0.9194805194805195\n",
      "Precision: 0.9535714285714286\n",
      "Recall: 0.9368421052631579\n"
     ]
    },
    {
     "data": {
      "image/png": "[encoded data removed]",
      "text/plain": [
       "<Figure size 576x396 with 1 Axes>"
      ]
     },
     "metadata": {},
     "output_type": "display_data"
    }
   ],
   "source": [
    "from sklearn import metrics\n",
    "print(\"Accuracy:\",metrics.accuracy_score(Y_test,p2))\n",
    "print(\"Precision:\",metrics.precision_score(Y_test,p2))\n",
    "print(\"Recall:\",metrics.recall_score(Y_test,p2))\n",
    "from sklearn.metrics import roc_curve\n",
    "from sklearn.metrics import roc_auc_score\n",
    "fpr2, tpr2, _ = metrics.roc_curve(Y_test,predictedValue)\n",
    "auc2 = metrics.roc_auc_score(Y_test,predictedValue)\n",
    "plt.plot(fpr2,tpr2,label=\"auc=\"+str(auc2))\n",
    "plt.legend(loc=4,fontsize=15)\n",
    "plt.show()"
   ]
  },
  {
   "cell_type": "code",
   "execution_count": 43,
   "metadata": {},
   "outputs": [
    {
     "name": "stdout",
     "output_type": "stream",
     "text": [
      "ATSp3                 0.017762\n",
      "C2SP2                -0.285833\n",
      "VP-3                 -0.255395\n",
      "SwHBa                 0.195563\n",
      "ATSp1                 0.022312\n",
      "ATSp2                -0.047901\n",
      "VP-4                  0.239642\n",
      "BCUTp-1h              0.331500\n",
      "AMR                   0.056164\n",
      "ATSp5                -0.001670\n",
      "minsOH                0.537165\n",
      "ATSp4                -0.000869\n",
      "VP-5                  2.878197\n",
      "CrippenLogP          -0.340518\n",
      "nC                    2.255607\n",
      "maxsOH               -0.472128\n",
      "C1SP2                -0.236074\n",
      "LipoaffinityIndex    -0.224112\n",
      "MLogP               -13.552373\n",
      "MDEC-23               0.029812\n",
      "dtype: float64\n",
      "ATSp3                 1.017920\n",
      "C2SP2                 0.751388\n",
      "VP-3                  0.774611\n",
      "SwHBa                 1.215996\n",
      "ATSp1                 1.022562\n",
      "ATSp2                 0.953228\n",
      "VP-4                  1.270795\n",
      "BCUTp-1h              1.393056\n",
      "AMR                   1.057771\n",
      "ATSp5                 0.998332\n",
      "minsOH                1.711149\n",
      "ATSp4                 0.999131\n",
      "VP-5                 17.782187\n",
      "CrippenLogP           0.711401\n",
      "nC                    9.541080\n",
      "maxsOH                0.623673\n",
      "C1SP2                 0.789722\n",
      "LipoaffinityIndex     0.799226\n",
      "MLogP                 0.000001\n",
      "MDEC-23               1.030261\n",
      "dtype: float64\n"
     ]
    }
   ],
   "source": [
    "print(result.params)\n",
    "odds_ratio=np.exp(result.params)\n",
    "print(odds_ratio)"
   ]
  }
 ],
 "metadata": {
  "kernelspec": {
   "display_name": "Python 3",
   "language": "python",
   "name": "python3"
  },
  "language_info": {
   "codemirror_mode": {
    "name": "ipython",
    "version": 3
   },
   "file_extension": ".py",
   "mimetype": "text/x-python",
   "name": "python",
   "nbconvert_exporter": "python",
   "pygments_lexer": "ipython3",
   "version": "3.8.5"
  }
 },
 "nbformat": 4,
 "nbformat_minor": 4
}
