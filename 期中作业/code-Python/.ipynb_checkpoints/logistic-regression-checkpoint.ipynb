{
 "cells": [
  {
   "cell_type": "code",
   "execution_count": 133,
   "metadata": {},
   "outputs": [],
   "source": [
    "import pandas as pd\n",
    "import numpy as np\n",
    "import corr\n",
    "import pretreat as pt\n",
    "from sklearn.model_selection import train_test_split, KFold\n",
    "from sklearn.utils import shuffle\n",
    "from sklearn.linear_model import LinearRegression,LogisticRegression\n",
    "import seaborn as sns\n",
    "import matplotlib.pyplot as plt\n",
    "from scipy import stats\n",
    "from collections import Counter"
   ]
  },
  {
   "cell_type": "code",
   "execution_count": 134,
   "metadata": {},
   "outputs": [
    {
     "name": "stdout",
     "output_type": "stream",
     "text": [
      "ATSp3                0.443449\n",
      "C2SP2                0.443637\n",
      "VP-3                 0.444182\n",
      "SwHBa                0.445961\n",
      "ATSp1                0.447772\n",
      "ATSp2                0.449943\n",
      "VP-4                 0.450466\n",
      "BCUTp-1h             0.452396\n",
      "AMR                  0.453209\n",
      "ATSp5                0.456117\n",
      "minsOH               0.458949\n",
      "ATSp4                0.461388\n",
      "VP-5                 0.466664\n",
      "CrippenLogP          0.475894\n",
      "nC                   0.485972\n",
      "maxsOH               0.495676\n",
      "C1SP2                0.511839\n",
      "LipoaffinityIndex    0.530547\n",
      "MLogP                0.548946\n",
      "MDEC-23              0.552716\n",
      "Name: pIC50, dtype: float64\n"
     ]
    }
   ],
   "source": [
    "f1 = pt.get_data()\n",
    "attributes = corr.get_attributes(f1)\n",
    "f1_attr20 = f1[attributes]\n",
    "# print(f1_attr20)\n",
    "f1_attr20 = shuffle(f1_attr20)"
   ]
  },
  {
   "cell_type": "code",
   "execution_count": 41,
   "metadata": {},
   "outputs": [
    {
     "name": "stdout",
     "output_type": "stream",
     "text": [
      "(20,)\n",
      "['ATSp3' 'C2SP2' 'VP-3' 'SwHBa' 'ATSp1' 'ATSp2' 'VP-4' 'BCUTp-1h' 'AMR'\n",
      " 'ATSp5' 'minsOH' 'ATSp4' 'VP-5' 'CrippenLogP' 'nC' 'maxsOH' 'C1SP2'\n",
      " 'LipoaffinityIndex' 'MLogP' 'MDEC-23' 'CYP3A4']\n"
     ]
    }
   ],
   "source": [
    "attributes=np.delete(attributes,20)\n",
    "print(attributes.shape)\n",
    "new_attributes=['Caco-2','CYP3A4','hERG','HOB','MN']\n",
    "attributes = np.append(attributes, np.array(new_attributes[1]))\n",
    "print(attributes)"
   ]
  },
  {
   "cell_type": "code",
   "execution_count": 42,
   "metadata": {},
   "outputs": [
    {
     "name": "stdout",
     "output_type": "stream",
     "text": [
      "            ATSp3  C2SP2      VP-3      SwHBa        ATSp1        ATSp2  \\\n",
      "0     4109.492845     11  8.417904  19.410374  2469.977567  2930.668527   \n",
      "1     4379.505354     11  8.917904  19.530549  2679.488262  3157.289284   \n",
      "2     4285.592752     16  7.611580  27.146320  2576.569862  3054.050592   \n",
      "3     4193.549346     11  8.736554  19.452294  2596.316352  3045.933534   \n",
      "4     4144.672227     16  7.700096  30.949906  2561.845107  3007.231045   \n",
      "...           ...    ...       ...        ...          ...          ...   \n",
      "1942  5776.257469     16  7.433164  28.486794  3026.398381  3759.509110   \n",
      "1943  5900.669089     16  7.669767  28.485825  3070.520975  3826.490944   \n",
      "1944  5446.759125     16  7.222657  28.535360  2890.458433  3584.594523   \n",
      "1946  5685.117563     16  7.482694  28.532866  3004.908179  3727.235731   \n",
      "1972  4757.182371     16  6.075333  26.034284  2554.725206  3132.708913   \n",
      "\n",
      "          VP-4   BCUTp-1h       AMR        ATSp5  ...        ATSp4      VP-5  \\\n",
      "0     6.730082  13.254859  126.1188  3792.779760  ...  4128.339568  4.883285   \n",
      "1     7.083636  13.617609  131.9420  4154.384741  ...  4811.560374  5.620657   \n",
      "2     5.786565  13.393453  139.9304  3993.734054  ...  4479.177597  4.424384   \n",
      "3     7.010825  13.079547  133.4822  3850.190106  ...  4311.294610  5.497714   \n",
      "4     5.990239  13.043454  143.1903  3806.120673  ...  4265.064807  4.538549   \n",
      "...        ...        ...       ...          ...  ...          ...       ...   \n",
      "1942  5.955269  13.787158  143.7845  6389.897600  ...  6311.459850  4.524330   \n",
      "1943  5.889601  13.944345  143.8953  6592.136328  ...  6562.679783  4.681674   \n",
      "1944  5.763672  13.708564  138.8059  6032.518229  ...  6003.232162  4.412962   \n",
      "1946  6.000529  13.787158  144.8432  6353.843979  ...  6277.775603  4.540135   \n",
      "1972  4.659061  12.684299  125.5605  4727.556804  ...  4603.096973  3.464317   \n",
      "\n",
      "      CrippenLogP  nC     maxsOH  C1SP2  LipoaffinityIndex  MLogP    MDEC-23  \\\n",
      "0         5.50408  26   9.968948      0          11.830949   3.77  28.277932   \n",
      "1         6.28428  28  10.058948      0          13.149974   3.99  31.076748   \n",
      "2         6.11878  27   9.977508      0          10.577177   3.77  30.901064   \n",
      "3         6.28428  28  10.025028      0          13.212767   3.99  30.570001   \n",
      "4         5.55658  28   9.993342      0          12.489691   3.99  30.570001   \n",
      "...           ...  ..        ...    ...                ...    ...        ...   \n",
      "1942      6.60994  30   0.000000      0          11.681255   4.32  40.712485   \n",
      "1943      6.60994  30   0.000000      0          11.711531   4.32  40.175016   \n",
      "1944      6.21984  29   0.000000      0          10.950687   4.21  43.134137   \n",
      "1946      6.46584  30   0.000000      0          11.556413   4.32  42.757570   \n",
      "1972      4.17938  24   9.706524      0           6.236558   3.33  32.179316   \n",
      "\n",
      "      CYP3A4  \n",
      "0          1  \n",
      "1          1  \n",
      "2          1  \n",
      "3          1  \n",
      "4          1  \n",
      "...      ...  \n",
      "1942       1  \n",
      "1943       1  \n",
      "1944       1  \n",
      "1946       1  \n",
      "1972       1  \n",
      "\n",
      "[1274 rows x 21 columns]\n",
      "CYP3A4\n"
     ]
    }
   ],
   "source": [
    "f1_attr20=f1[attributes]\n",
    "print(f1_attr20)\n",
    "print(attributes[20])"
   ]
  },
  {
   "cell_type": "code",
   "execution_count": 43,
   "metadata": {},
   "outputs": [
    {
     "name": "stdout",
     "output_type": "stream",
     "text": [
      "(1019, 20) (255, 20) (1019,) (255,)\n"
     ]
    }
   ],
   "source": [
    "X_train,X_test,Y_train,Y_test = train_test_split(f1_attr20[attributes[:20]],f1_attr20[attributes[20]],train_size=0.80)\n",
    "print(X_train.shape,X_test.shape,Y_train.shape,Y_test.shape)"
   ]
  },
  {
   "cell_type": "code",
   "execution_count": 44,
   "metadata": {
    "scrolled": true
   },
   "outputs": [
    {
     "data": {
      "text/plain": [
       "LogisticRegression(max_iter=10000)"
      ]
     },
     "execution_count": 44,
     "metadata": {},
     "output_type": "execute_result"
    }
   ],
   "source": [
    "model = LogisticRegression(max_iter=10000)\n",
    "model.fit(X_train,Y_train)"
   ]
  },
  {
   "cell_type": "code",
   "execution_count": 45,
   "metadata": {
    "scrolled": false
   },
   "outputs": [
    {
     "data": {
      "text/plain": [
       "0.8980392156862745"
      ]
     },
     "execution_count": 45,
     "metadata": {},
     "output_type": "execute_result"
    }
   ],
   "source": [
    "model.score(X_test,Y_test)"
   ]
  },
  {
   "cell_type": "code",
   "execution_count": 46,
   "metadata": {},
   "outputs": [],
   "source": [
    "lr_pres_proba = model.predict_proba(X_test) [::, 1]"
   ]
  },
  {
   "cell_type": "code",
   "execution_count": 47,
   "metadata": {},
   "outputs": [],
   "source": [
    "from sklearn.metrics import roc_curve\n",
    "fpr, tpr, thresholds = roc_curve(Y_test, lr_pres_proba)"
   ]
  },
  {
   "cell_type": "code",
   "execution_count": 48,
   "metadata": {},
   "outputs": [],
   "source": [
    "from sklearn.metrics import roc_auc_score\n",
    "auc = roc_auc_score(Y_test, lr_pres_proba)"
   ]
  },
  {
   "cell_type": "code",
   "execution_count": 49,
   "metadata": {
    "scrolled": true
   },
   "outputs": [
    {
     "name": "stdout",
     "output_type": "stream",
     "text": [
      "[0.         0.         0.         0.         0.         0.\n",
      " 0.         0.01694915 0.01694915 0.01694915 0.01694915 0.03389831\n",
      " 0.03389831 0.05084746 0.05084746 0.06779661 0.06779661 0.10169492\n",
      " 0.10169492 0.11864407 0.11864407 0.13559322 0.13559322 0.15254237\n",
      " 0.15254237 0.18644068 0.18644068 0.20338983 0.20338983 0.22033898\n",
      " 0.22033898 0.25423729 0.25423729 0.28813559 0.28813559 0.33898305\n",
      " 0.33898305 0.3559322  0.3559322  0.37288136 0.37288136 0.38983051\n",
      " 0.38983051 0.47457627 0.47457627 0.49152542 0.49152542 0.59322034\n",
      " 0.59322034 0.6779661  0.6779661  0.76271186 0.76271186 0.89830508\n",
      " 0.89830508 0.96610169 0.96610169 1.        ] [0.         0.00510204 0.17857143 0.18877551 0.33673469 0.34693878\n",
      " 0.38265306 0.38265306 0.46428571 0.4744898  0.57142857 0.57142857\n",
      " 0.64795918 0.64795918 0.80102041 0.80102041 0.82653061 0.82653061\n",
      " 0.83163265 0.83163265 0.89285714 0.89285714 0.90816327 0.90816327\n",
      " 0.91326531 0.91326531 0.91836735 0.91836735 0.92346939 0.92346939\n",
      " 0.92857143 0.92857143 0.93367347 0.93367347 0.93877551 0.93877551\n",
      " 0.94897959 0.94897959 0.95408163 0.95408163 0.95918367 0.95918367\n",
      " 0.96428571 0.96428571 0.96938776 0.96938776 0.9744898  0.9744898\n",
      " 0.97959184 0.97959184 0.98469388 0.98469388 0.98979592 0.98979592\n",
      " 0.99489796 0.99489796 1.         1.        ]\n"
     ]
    },
    {
     "data": {
      "image/png": "[encoded data removed]",
      "text/plain": [
       "<Figure size 500x300 with 1 Axes>"
      ]
     },
     "metadata": {},
     "output_type": "display_data"
    }
   ],
   "source": [
    "plt.figure(figsize=(5, 3), dpi=100)\n",
    "plt.style.use('seaborn')\n",
    "plt.plot(fpr, tpr, label=\"AUC={:.4f}\" .format(auc))\n",
    "print(fpr,tpr)\n",
    "plt.legend(loc=4, fontsize=7)\n",
    "plt.title('ROC curve',fontsize=10)\n",
    "plt.xlabel('Fauls Positive Rate',fontsize=10)\n",
    "plt.ylabel('True Positive Rate',fontsize=10)\n",
    "plt.show()"
   ]
  },
  {
   "cell_type": "code",
   "execution_count": 50,
   "metadata": {},
   "outputs": [
    {
     "name": "stdout",
     "output_type": "stream",
     "text": [
      "              precision    recall  f1-score   support\n",
      "\n",
      "           0       0.74      0.86      0.80        59\n",
      "           1       0.96      0.91      0.93       196\n",
      "\n",
      "    accuracy                           0.90       255\n",
      "   macro avg       0.85      0.89      0.86       255\n",
      "weighted avg       0.91      0.90      0.90       255\n",
      "\n"
     ]
    }
   ],
   "source": [
    "from sklearn.metrics import classification_report\n",
    "prediction = model.predict(X_test)#\n",
    "print(classification_report(Y_test,prediction))"
   ]
  },
  {
   "cell_type": "code",
   "execution_count": 51,
   "metadata": {},
   "outputs": [
    {
     "data": {
      "image/png": "[encoded data removed]",
      "text/plain": [
       "<Figure size 500x300 with 1 Axes>"
      ]
     },
     "metadata": {},
     "output_type": "display_data"
    }
   ],
   "source": [
    "plt.figure(figsize=(5, 3), dpi=100)\n",
    "plt.scatter(range(0,50),model.predict(X_test)[:50],label=\"prediction\")\n",
    "plt.legend(loc=4, fontsize=7)\n",
    "plt.scatter(range(0,50), Y_test[:50],label=\"Y_test\")\n",
    "plt.legend(loc=4, fontsize=7)\n",
    "plt.title('overview of the model',fontsize=10)\n",
    "plt.xlabel('index of data',fontsize=10)\n",
    "plt.ylabel('CYP3A4',fontsize=10)\n",
    "plt.show()"
   ]
  },
  {
   "cell_type": "code",
   "execution_count": 52,
   "metadata": {
    "scrolled": true
   },
   "outputs": [],
   "source": [
    "import sklearn.metrics as sm\n",
    "import statsmodels.api as sa"
   ]
  },
  {
   "cell_type": "code",
   "execution_count": 53,
   "metadata": {},
   "outputs": [
    {
     "name": "stdout",
     "output_type": "stream",
     "text": [
      "Optimization terminated successfully.\n",
      "         Current function value: 0.207733\n",
      "         Iterations 10\n",
      "                           Logit Regression Results                           \n",
      "==============================================================================\n",
      "Dep. Variable:                 CYP3A4   No. Observations:                 1019\n",
      "Model:                          Logit   Df Residuals:                      999\n",
      "Method:                           MLE   Df Model:                           19\n",
      "Date:                Tue, 07 Dec 2021   Pseudo R-squ.:                  0.6567\n",
      "Time:                        21:56:18   Log-Likelihood:                -211.68\n",
      "converged:                       True   LL-Null:                       -616.69\n",
      "Covariance Type:            nonrobust   LLR p-value:                1.596e-159\n",
      "=====================================================================================\n",
      "                        coef    std err          z      P>|z|      [0.025      0.975]\n",
      "-------------------------------------------------------------------------------------\n",
      "ATSp3                 0.0219      0.006      3.948      0.000       0.011       0.033\n",
      "C2SP2                -0.3208      0.123     -2.613      0.009      -0.561      -0.080\n",
      "VP-3                 -2.0777      1.175     -1.769      0.077      -4.380       0.225\n",
      "SwHBa                 0.1541      0.054      2.870      0.004       0.049       0.259\n",
      "ATSp1                 0.0358      0.017      2.151      0.031       0.003       0.068\n",
      "ATSp2                -0.0636      0.022     -2.901      0.004      -0.107      -0.021\n",
      "VP-4                  3.6517      1.560      2.341      0.019       0.594       6.709\n",
      "BCUTp-1h              0.5463      0.309      1.767      0.077      -0.060       1.152\n",
      "AMR                   0.0686      0.066      1.037      0.300      -0.061       0.198\n",
      "ATSp5                -0.0045      0.001     -3.153      0.002      -0.007      -0.002\n",
      "minsOH                0.7874      0.554      1.421      0.155      -0.299       1.873\n",
      "ATSp4                 0.0004      0.002      0.222      0.824      -0.003       0.004\n",
      "VP-5                  1.2705      1.179      1.077      0.281      -1.041       3.582\n",
      "CrippenLogP           0.0651      0.224      0.290      0.772      -0.375       0.505\n",
      "nC                    2.8000      0.601      4.657      0.000       1.622       3.979\n",
      "maxsOH               -0.6473      0.539     -1.200      0.230      -1.705       0.410\n",
      "C1SP2                -0.2290      0.227     -1.008      0.313      -0.674       0.216\n",
      "LipoaffinityIndex    -0.0550      0.161     -0.341      0.733      -0.372       0.261\n",
      "MLogP               -18.7952      3.051     -6.160      0.000     -24.775     -12.815\n",
      "MDEC-23               0.0829      0.065      1.276      0.202      -0.044       0.210\n",
      "=====================================================================================\n",
      "\n",
      "Possibly complete quasi-separation: A fraction 0.22 of observations can be\n",
      "perfectly predicted. This might indicate that there is complete\n",
      "quasi-separation. In this case some parameters will not be identified.\n"
     ]
    }
   ],
   "source": [
    "model2=sa.Logit(Y_train,X_train)\n",
    "result=model2.fit()\n",
    "print(result.summary())"
   ]
  },
  {
   "cell_type": "code",
   "execution_count": 54,
   "metadata": {
    "scrolled": true
   },
   "outputs": [
    {
     "name": "stdout",
     "output_type": "stream",
     "text": [
      "Optimization terminated successfully.\n",
      "         Current function value: 0.207733\n",
      "         Iterations 10\n",
      "              precision    recall  f1-score   support\n",
      "\n",
      "           0       0.72      0.86      0.78        59\n",
      "           1       0.96      0.90      0.93       196\n",
      "\n",
      "    accuracy                           0.89       255\n",
      "   macro avg       0.84      0.88      0.86       255\n",
      "weighted avg       0.90      0.89      0.89       255\n",
      "\n"
     ]
    }
   ],
   "source": [
    "predictedValue=model2.fit().predict(X_test)\n",
    "p2=predictedValue.copy(deep=True)\n",
    "#print(classification_report(Y_test,predictedValue))\n",
    "p2.loc[predictedValue>=0.5]=1\n",
    "p2.loc[predictedValue<0.5]=0\n",
    "print(classification_report(Y_test,p2))\n",
    "#print(predictedValue)"
   ]
  },
  {
   "cell_type": "code",
   "execution_count": 55,
   "metadata": {},
   "outputs": [
    {
     "name": "stdout",
     "output_type": "stream",
     "text": [
      "[[ 51   8]\n",
      " [ 20 176]]\n"
     ]
    }
   ],
   "source": [
    "from sklearn.metrics import confusion_matrix\n",
    "confusion_matrix = confusion_matrix(Y_test,p2)\n",
    "print(confusion_matrix)"
   ]
  },
  {
   "cell_type": "code",
   "execution_count": 139,
   "metadata": {},
   "outputs": [
    {
     "name": "stdout",
     "output_type": "stream",
     "text": [
      "Accuracy: 0.9116883116883117\n",
      "Precision: 0.9548611111111112\n",
      "Recall: 0.9290540540540541\n"
     ]
    },
    {
     "data": {
      "image/png": "[encoded data removed]",
      "text/plain": [
       "<Figure size 576x396 with 1 Axes>"
      ]
     },
     "metadata": {},
     "output_type": "display_data"
    }
   ],
   "source": [
    "from sklearn import metrics\n",
    "print(\"Accuracy:\",metrics.accuracy_score(Y_test,p2))\n",
    "print(\"Precision:\",metrics.precision_score(Y_test,p2))\n",
    "print(\"Recall:\",metrics.recall_score(Y_test,p2))\n",
    "from sklearn.metrics import roc_curve\n",
    "from sklearn.metrics import roc_auc_score\n",
    "fpr2, tpr2, _ = metrics.roc_curve(Y_test,predictedValue)\n",
    "auc2 = metrics.roc_auc_score(Y_test,predictedValue)\n",
    "plt.plot(fpr2,tpr2,label=\"auc=\"+str(auc2))\n",
    "plt.legend(loc=4,fontsize=15)\n",
    "plt.show()"
   ]
  },
  {
   "cell_type": "code",
   "execution_count": null,
   "metadata": {},
   "outputs": [],
   "source": []
  },
  {
   "cell_type": "code",
   "execution_count": null,
   "metadata": {},
   "outputs": [],
   "source": []
  },
  {
   "cell_type": "code",
   "execution_count": null,
   "metadata": {},
   "outputs": [],
   "source": []
  }
 ],
 "metadata": {
  "kernelspec": {
   "display_name": "Python 3",
   "language": "python",
   "name": "python3"
  },
  "language_info": {
   "codemirror_mode": {
    "name": "ipython",
    "version": 3
   },
   "file_extension": ".py",
   "mimetype": "text/x-python",
   "name": "python",
   "nbconvert_exporter": "python",
   "pygments_lexer": "ipython3",
   "version": "3.8.5"
  }
 },
 "nbformat": 4,
 "nbformat_minor": 4
}
